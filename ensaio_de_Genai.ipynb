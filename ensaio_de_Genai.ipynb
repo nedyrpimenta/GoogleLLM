{
  "nbformat": 4,
  "nbformat_minor": 0,
  "metadata": {
    "colab": {
      "provenance": [],
      "authorship_tag": "ABX9TyP0pZUJuGuZcOqm4vRBxnkM",
      "include_colab_link": true
    },
    "kernelspec": {
      "name": "python3",
      "display_name": "Python 3"
    },
    "language_info": {
      "name": "python"
    }
  },
  "cells": [
    {
      "cell_type": "markdown",
      "metadata": {
        "id": "view-in-github",
        "colab_type": "text"
      },
      "source": [
        "<a href=\"https://colab.research.google.com/github/nedyrpimenta/GoogleLLM/blob/main/ensaio_de_Genai.ipynb\" target=\"_parent\"><img src=\"https://colab.research.google.com/assets/colab-badge.svg\" alt=\"Open In Colab\"/></a>"
      ]
    },
    {
      "cell_type": "code",
      "execution_count": 4,
      "metadata": {
        "id": "J6Pd9SFJ1yVi"
      },
      "outputs": [],
      "source": [
        "!pip install -q -U google-generativeai"
      ]
    },
    {
      "cell_type": "code",
      "execution_count": 2,
      "metadata": {
        "id": "HTiaTu6O1LRC"
      },
      "outputs": [],
      "source": [
        "# Import the Python SDK\n",
        "import google.generativeai as genai\n",
        "# Used to securely store your API key\n",
        "from google.colab import userdata\n",
        "api_key = userdata.get('SECRET_KEY')\n",
        "\n",
        "GOOGLE_API_KEY= api_key\n",
        "genai.configure(api_key=GOOGLE_API_KEY)"
      ]
    },
    {
      "cell_type": "code",
      "source": [
        "help (genai)"
      ],
      "metadata": {
        "id": "z7x9VqlJl0zO"
      },
      "execution_count": null,
      "outputs": []
    },
    {
      "cell_type": "markdown",
      "source": [
        "Seleção do modelo"
      ],
      "metadata": {
        "id": "bJ_c1laFaxUB"
      }
    },
    {
      "cell_type": "code",
      "execution_count": null,
      "metadata": {
        "id": "s-JqXcDe2hZ_"
      },
      "outputs": [],
      "source": [
        "for m in genai.list_models():\n",
        "  if 'generateContent' in m.supported_generation_methods:\n",
        "    print (\"pode utilizar o modelo=\", m.display_name, \"ou pelo nome =\", m.name)\n",
        ""
      ]
    },
    {
      "cell_type": "code",
      "source": [
        "model = genai.GenerativeModel('gemini-pro')"
      ],
      "metadata": {
        "id": "Ki0_K7WObunH"
      },
      "execution_count": 3,
      "outputs": []
    },
    {
      "cell_type": "code",
      "source": [
        "response = model.generate_content(\"sugestoes para uma viagem para portland no oregon\")\n",
        "print(response.text)"
      ],
      "metadata": {
        "colab": {
          "base_uri": "https://localhost:8080/",
          "height": 746
        },
        "id": "AVfkRry4bEtL",
        "outputId": "b34a6b25-bb07-413e-a641-4cf3c81d720a"
      },
      "execution_count": 4,
      "outputs": [
        {
          "output_type": "stream",
          "name": "stdout",
          "text": [
            "**Dia 1**\n",
            "\n",
            "* Chegue ao Aeroporto Internacional de Portland (PDX) e pegue um táxi ou Uber para o seu hotel no centro da cidade.\n",
            "* Caminhe pelo pitoresco Parque Japonês para ver tradicionais jardins, lagoas e pagodes.\n",
            "* Visite o Museu de Arte de Portland e maravilhe-se com sua ampla coleção de obras antigas e contemporâneas.\n",
            "* Jante no Bluehour, que oferece cozinha americana moderna com vistas deslumbrantes do rio.\n",
            "\n",
            "**Dia 2**\n",
            "\n",
            "* Explore o vibrante Pearl District, conhecido por suas galerias de arte, lojas e restaurantes.\n",
            "* Faça um passeio ao longo da pitoresca Trilha do Rio Willamette, que oferece vistas deslumbrantes do horizonte da cidade.\n",
            "* Visite o Jardim Chinês Lan Su, um oásis tranquilo com pavilhões tradicionais, lagos e plantas exóticas.\n",
            "* Jante no Andina Restaurant, especializado em cozinha peruana autêntica.\n",
            "\n",
            "**Dia 3**\n",
            "\n",
            "* Passe pela Forest Park, a maior floresta urbana dos Estados Unidos e lar de inúmeras trilhas para caminhadas e ciclismo.\n",
            "* Visite o Oregon Zoo, que abriga mais de 2.000 animais de todo o mundo.\n",
            "* Faça um passeio até o Pittock Mansion, uma mansão histórica situada no West Hills, com vistas panorâmicas da cidade.\n",
            "* Jante no Ava Gene's, conhecido por sua comida de conforto criativa.\n",
            "\n",
            "**Dia 4**\n",
            "\n",
            "* Faça um passeio de um dia à charmosa cidade de Cannon Beach, conhecida por suas icônicas formações rochosas Haystack Rock e Cannon Beach.\n",
            "* Caminhe pela praia e admire a deslumbrante costa do Oregon.\n",
            "* Visite o Haystack Rock e suba até o topo para vistas panorâmicas.\n",
            "* Jante no Wayfarer, um restaurante à beira-mar com vistas deslumbrantes.\n",
            "\n",
            "**Dia 5**\n",
            "\n",
            "* Faça compras no Lloyd Center, o maior shopping center do Oregon.\n",
            "* Visite o Oregon Museum of Science and Industry (OMSI), que oferece exposições interativas sobre ciência, tecnologia e engenharia.\n",
            "* Dê um passeio pelo bairro Hawthorne, conhecido por suas lojas únicas, cafés descolados e bares movimentados.\n",
            "* Jante no Serratto, um restaurante italiano popular por suas massas artesanais.\n",
            "\n",
            "**Dicas:**\n",
            "\n",
            "* Portland é uma cidade amiga dos pedestres e das bicicletas, então considere caminhar ou andar de bicicleta sempre que possível.\n",
            "* Se você estiver dirigindo, estacione no Pioneer Square Garage para acesso conveniente ao centro da cidade.\n",
            "* Adquira um Portland CityPASS para economizar em atrações populares.\n",
            "* Visite durante os meses de primavera ou outono para o melhor clima.\n",
            "* Portland é conhecida por sua cultura cervejeira, então não deixe de visitar algumas das cervejarias locais, como a Bridgeport Brewery ou a Deschutes Brewery.\n"
          ]
        }
      ]
    }
  ]
}